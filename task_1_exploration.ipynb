{
 "cells": [
  {
   "cell_type": "code",
   "execution_count": 1,
   "metadata": {},
   "outputs": [],
   "source": [
    "import pandas as pd\n",
    "\n",
    "t1 = pd.read_csv(\"data/trial/task1.csv\", names =[\"index\", \"text\", \"gold\"], sep=\";\", header=0)\n",
    "p1 = pd.read_csv(\"data/practice/task1.csv\", names =[\"index\", \"text\", \"gold\"], sep=\";\", header=0)\n",
    "e1 = pd.read_csv(\"data/evaluation/task1.csv\", names =[\"index\", \"text\"], sep=\";\", header=0)"
   ]
  },
  {
   "cell_type": "code",
   "execution_count": 2,
   "metadata": {
    "tags": []
   },
   "outputs": [
    {
     "output_type": "stream",
     "name": "stdout",
     "text": "(8580, 3) (13478, 3) (7386, 2)\n"
    }
   ],
   "source": [
    "print(t1.shape, p1.shape, e1.shape)"
   ]
  },
  {
   "cell_type": "code",
   "execution_count": 3,
   "metadata": {},
   "outputs": [
    {
     "output_type": "execute_result",
     "data": {
      "text/plain": "      index  text\ngold             \n0      8011  8011\n1       569   569",
      "text/html": "<div>\n<style scoped>\n    .dataframe tbody tr th:only-of-type {\n        vertical-align: middle;\n    }\n\n    .dataframe tbody tr th {\n        vertical-align: top;\n    }\n\n    .dataframe thead th {\n        text-align: right;\n    }\n</style>\n<table border=\"1\" class=\"dataframe\">\n  <thead>\n    <tr style=\"text-align: right;\">\n      <th></th>\n      <th>index</th>\n      <th>text</th>\n    </tr>\n    <tr>\n      <th>gold</th>\n      <th></th>\n      <th></th>\n    </tr>\n  </thead>\n  <tbody>\n    <tr>\n      <th>0</th>\n      <td>8011</td>\n      <td>8011</td>\n    </tr>\n    <tr>\n      <th>1</th>\n      <td>569</td>\n      <td>569</td>\n    </tr>\n  </tbody>\n</table>\n</div>"
     },
     "metadata": {},
     "execution_count": 3
    }
   ],
   "source": [
    "t1.groupby(\"gold\").count()"
   ]
  },
  {
   "cell_type": "code",
   "execution_count": 4,
   "metadata": {},
   "outputs": [
    {
     "output_type": "execute_result",
     "data": {
      "text/plain": "      index   text\ngold              \n0     12468  12468\n1      1010   1010",
      "text/html": "<div>\n<style scoped>\n    .dataframe tbody tr th:only-of-type {\n        vertical-align: middle;\n    }\n\n    .dataframe tbody tr th {\n        vertical-align: top;\n    }\n\n    .dataframe thead th {\n        text-align: right;\n    }\n</style>\n<table border=\"1\" class=\"dataframe\">\n  <thead>\n    <tr style=\"text-align: right;\">\n      <th></th>\n      <th>index</th>\n      <th>text</th>\n    </tr>\n    <tr>\n      <th>gold</th>\n      <th></th>\n      <th></th>\n    </tr>\n  </thead>\n  <tbody>\n    <tr>\n      <th>0</th>\n      <td>12468</td>\n      <td>12468</td>\n    </tr>\n    <tr>\n      <th>1</th>\n      <td>1010</td>\n      <td>1010</td>\n    </tr>\n  </tbody>\n</table>\n</div>"
     },
     "metadata": {},
     "execution_count": 4
    }
   ],
   "source": [
    "p1.groupby(\"gold\").count()"
   ]
  },
  {
   "cell_type": "markdown",
   "metadata": {},
   "source": [
    "# Simple Baselines"
   ]
  },
  {
   "cell_type": "code",
   "execution_count": 15,
   "metadata": {},
   "outputs": [],
   "source": [
    "all_text = t1[\"text\"].tolist() + p1[\"text\"].tolist() + e1[\"text\"].tolist()"
   ]
  },
  {
   "cell_type": "code",
   "execution_count": 18,
   "metadata": {},
   "outputs": [],
   "source": [
    "from sklearn.feature_extraction.text import TfidfVectorizer\n",
    "\n",
    "tfidf = TfidfVectorizer(all_text, lowercase=True, ngram_range=(1,3), stop_words=\"english\")\n",
    "tfidf.fit(all_text)\n",
    "\n",
    "X_train = tfidf.transform(p1[\"text\"].tolist())\n",
    "y_train = p1[\"gold\"].tolist()\n",
    "\n",
    "X_test = tfidf.transform(t1[\"text\"].tolist())\n",
    "y_test = t1[\"gold\"].tolist()"
   ]
  },
  {
   "cell_type": "code",
   "execution_count": 19,
   "metadata": {
    "tags": []
   },
   "outputs": [
    {
     "output_type": "stream",
     "name": "stdout",
     "text": "Train acc:  0.9412587412587412\n              precision    recall  f1-score   support\n\n           0       0.95      0.99      0.97      8011\n           1       0.62      0.29      0.40       569\n\n    accuracy                           0.94      8580\n   macro avg       0.79      0.64      0.68      8580\nweighted avg       0.93      0.94      0.93      8580\n\n"
    }
   ],
   "source": [
    "from sklearn.naive_bayes import MultinomialNB\n",
    "from sklearn.metrics import classification_report\n",
    "\n",
    "clf1 = MultinomialNB(alpha=.1)\n",
    "clf1.fit(X_train, y_train)\n",
    "\n",
    "print(\"Train acc: \", clf1.score(X_test, y_test))\n",
    "preds = clf1.predict(X_test)\n",
    "\n",
    "print(classification_report(y_test, preds))"
   ]
  },
  {
   "cell_type": "code",
   "execution_count": 21,
   "metadata": {
    "tags": []
   },
   "outputs": [
    {
     "output_type": "stream",
     "name": "stdout",
     "text": "Train acc:  0.9375291375291376\n              precision    recall  f1-score   support\n\n           0       0.94      1.00      0.97      8011\n           1       0.85      0.07      0.13       569\n\n    accuracy                           0.94      8580\n   macro avg       0.89      0.53      0.55      8580\nweighted avg       0.93      0.94      0.91      8580\n\n"
    }
   ],
   "source": [
    "from sklearn.linear_model import LogisticRegression\n",
    "\n",
    "clf1 = LogisticRegression()\n",
    "clf1.fit(X_train, y_train)\n",
    "\n",
    "print(\"Train acc: \", clf1.score(X_test, y_test))\n",
    "preds = clf1.predict(X_test)\n",
    "\n",
    "print(classification_report(y_test, preds))"
   ]
  },
  {
   "cell_type": "code",
   "execution_count": 23,
   "metadata": {
    "tags": []
   },
   "outputs": [
    {
     "output_type": "stream",
     "name": "stdout",
     "text": "Train acc:  0.9461538461538461\n              precision    recall  f1-score   support\n\n           0       0.95      1.00      0.97      8011\n           1       0.86      0.22      0.35       569\n\n    accuracy                           0.95      8580\n   macro avg       0.91      0.61      0.66      8580\nweighted avg       0.94      0.95      0.93      8580\n\n"
    }
   ],
   "source": [
    "from sklearn.ensemble import RandomForestClassifier\n",
    "\n",
    "clf1 = RandomForestClassifier()\n",
    "clf1.fit(X_train, y_train)\n",
    "\n",
    "print(\"Train acc: \", clf1.score(X_test, y_test))\n",
    "preds = clf1.predict(X_test)\n",
    "\n",
    "print(classification_report(y_test, preds))"
   ]
  },
  {
   "cell_type": "markdown",
   "metadata": {},
   "source": [
    "# Simple Baseline w/ Sent-Bert Features"
   ]
  },
  {
   "cell_type": "code",
   "execution_count": 24,
   "metadata": {},
   "outputs": [],
   "source": [
    "from sentence_transformers import SentenceTransformer\n",
    "\n",
    "encoder = SentenceTransformer('roberta-base-nli-stsb-mean-tokens')"
   ]
  },
  {
   "cell_type": "code",
   "execution_count": 25,
   "metadata": {
    "tags": []
   },
   "outputs": [
    {
     "output_type": "stream",
     "name": "stderr",
     "text": "Batches: 100%|██████████| 1685/1685 [02:18<00:00, 12.13it/s]\n"
    }
   ],
   "source": [
    "X_train = encoder.encode(p1[\"text\"], show_progress_bar=True)"
   ]
  },
  {
   "cell_type": "code",
   "execution_count": 34,
   "metadata": {
    "tags": []
   },
   "outputs": [
    {
     "output_type": "stream",
     "name": "stderr",
     "text": "Batches: 100%|██████████| 1073/1073 [01:29<00:00, 12.00it/s]\n"
    }
   ],
   "source": [
    "X_test = encoder.encode(t1[\"text\"], show_progress_bar=True)"
   ]
  },
  {
   "cell_type": "code",
   "execution_count": 35,
   "metadata": {},
   "outputs": [],
   "source": [
    "import numpy as np\n",
    "\n",
    "X_train = np.array(X_train)\n",
    "y_train = p1[\"gold\"]\n",
    "\n",
    "X_test = np.array(X_test)\n",
    "y_test = t1[\"gold\"]"
   ]
  },
  {
   "cell_type": "code",
   "execution_count": 36,
   "metadata": {
    "tags": []
   },
   "outputs": [
    {
     "output_type": "stream",
     "name": "stdout",
     "text": "Train acc:  0.9300699300699301\n              precision    recall  f1-score   support\n\n           0       0.97      0.96      0.96      8011\n           1       0.48      0.55      0.51       569\n\n    accuracy                           0.93      8580\n   macro avg       0.72      0.75      0.74      8580\nweighted avg       0.93      0.93      0.93      8580\n\n"
    }
   ],
   "source": [
    "from sklearn.linear_model import LogisticRegression\n",
    "\n",
    "clf1 = LogisticRegression()\n",
    "clf1.fit(X_train, y_train)\n",
    "\n",
    "print(\"Train acc: \", clf1.score(X_test, y_test))\n",
    "preds = clf1.predict(X_test)\n",
    "\n",
    "print(classification_report(y_test, preds))"
   ]
  },
  {
   "cell_type": "code",
   "execution_count": 38,
   "metadata": {
    "tags": []
   },
   "outputs": [
    {
     "output_type": "stream",
     "name": "stderr",
     "text": "[Parallel(n_jobs=-1)]: Using backend ThreadingBackend with 12 concurrent workers.\n[Parallel(n_jobs=-1)]: Done  26 tasks      | elapsed:    3.5s\n[Parallel(n_jobs=-1)]: Done 100 out of 100 | elapsed:   10.8s finished\n[Parallel(n_jobs=12)]: Using backend ThreadingBackend with 12 concurrent workers.\n[Parallel(n_jobs=12)]: Done  26 tasks      | elapsed:    0.1s\n[Parallel(n_jobs=12)]: Done 100 out of 100 | elapsed:    0.2s finished\n[Parallel(n_jobs=12)]: Using backend ThreadingBackend with 12 concurrent workers.\n[Parallel(n_jobs=12)]: Done  26 tasks      | elapsed:    0.1s\nTrain acc:  0.9382284382284383\n              precision    recall  f1-score   support\n\n           0       0.94      1.00      0.97      8011\n           1       0.90      0.08      0.14       569\n\n    accuracy                           0.94      8580\n   macro avg       0.92      0.54      0.56      8580\nweighted avg       0.94      0.94      0.91      8580\n\n[Parallel(n_jobs=12)]: Done 100 out of 100 | elapsed:    0.2s finished\n"
    }
   ],
   "source": [
    "from sklearn.ensemble import RandomForestClassifier\n",
    "\n",
    "clf1 = RandomForestClassifier(n_jobs=-1, verbose=True)\n",
    "clf1.fit(X_train, y_train)\n",
    "\n",
    "print(\"Train acc: \", clf1.score(X_test, y_test))\n",
    "preds = clf1.predict(X_test)\n",
    "\n",
    "print(classification_report(y_test, preds))"
   ]
  },
  {
   "cell_type": "code",
   "execution_count": 39,
   "metadata": {
    "tags": []
   },
   "outputs": [
    {
     "output_type": "stream",
     "name": "stdout",
     "text": "Train acc:  0.9222610722610722\n              precision    recall  f1-score   support\n\n           0       0.96      0.96      0.96      8011\n           1       0.41      0.38      0.40       569\n\n    accuracy                           0.92      8580\n   macro avg       0.68      0.67      0.68      8580\nweighted avg       0.92      0.92      0.92      8580\n\n"
    }
   ],
   "source": [
    "from sklearn.ensemble import AdaBoostClassifier\n",
    "\n",
    "clf1 = AdaBoostClassifier()\n",
    "clf1.fit(X_train, y_train)\n",
    "\n",
    "print(\"Train acc: \", clf1.score(X_test, y_test))\n",
    "preds = clf1.predict(X_test)\n",
    "\n",
    "print(classification_report(y_test, preds))"
   ]
  },
  {
   "cell_type": "code",
   "execution_count": null,
   "metadata": {},
   "outputs": [],
   "source": []
  }
 ],
 "metadata": {
  "language_info": {
   "codemirror_mode": {
    "name": "ipython",
    "version": 3
   },
   "file_extension": ".py",
   "mimetype": "text/x-python",
   "name": "python",
   "nbconvert_exporter": "python",
   "pygments_lexer": "ipython3",
   "version": "3.8.2-final"
  },
  "orig_nbformat": 2,
  "kernelspec": {
   "name": "python38264bitdeeplearningcondac04df1efee874df2ad8ee6cd80464e64",
   "display_name": "Python 3.8.2 64-bit ('deeplearning': conda)"
  }
 },
 "nbformat": 4,
 "nbformat_minor": 2
}