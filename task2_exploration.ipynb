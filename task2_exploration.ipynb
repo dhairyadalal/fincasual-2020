{
 "cells": [
  {
   "cell_type": "code",
   "execution_count": 1,
   "metadata": {},
   "outputs": [],
   "source": [
    "import pandas as pd"
   ]
  },
  {
   "cell_type": "code",
   "execution_count": 2,
   "metadata": {},
   "outputs": [],
   "source": [
    "train = pd.read_csv(\"data/practice/task2.csv\", sep=\";\", \n",
    "                     names = ['index', 'text', 'cause', 'effect', 'offset_sentence2',\n",
    "                              'offset_sentence3', 'cause_start', 'cause_end', \n",
    "                              'effect_start', 'effect_end', 'sentence'],\n",
    "                    header=0)\n",
    "                    "
   ]
  },
  {
   "cell_type": "code",
   "execution_count": 12,
   "metadata": {},
   "outputs": [
    {
     "output_type": "execute_result",
     "data": {
      "text/plain": "\" <e2>The Sunshine State drew in a net influx of about $17.7 billion in adjusted gross income (AGI)  -  most of which (72 percent) came from those aged 55 and older.</e2> <e1>It is consistently one of the most popular destinations for retirees due to affordability and low taxes.</e1> Florida's $17.7 billion in net AGI dwarves the remaining 19 states that saw a positive net influx of income  -  which combined for a total of $19.4 billion.\""
     },
     "metadata": {},
     "execution_count": 12
    }
   ],
   "source": [
    "train.iloc[0][\"sentence\"]"
   ]
  },
  {
   "cell_type": "code",
   "execution_count": 14,
   "metadata": {},
   "outputs": [
    {
     "output_type": "execute_result",
     "data": {
      "text/plain": "' It is consistently one of the most popular destinations for retirees due to affordability and low taxes.'"
     },
     "metadata": {},
     "execution_count": 14
    }
   ],
   "source": [
    "train.iloc[0][\"cause\"]"
   ]
  },
  {
   "cell_type": "code",
   "execution_count": 15,
   "metadata": {},
   "outputs": [
    {
     "output_type": "execute_result",
     "data": {
      "text/plain": "' The Sunshine State drew in a net influx of about $17.7 billion in adjusted gross income (AGI)  -  most of which (72 percent) came from those aged 55 and older.'"
     },
     "metadata": {},
     "execution_count": 15
    }
   ],
   "source": [
    "train.iloc[0][\"effect\"]"
   ]
  },
  {
   "cell_type": "code",
   "execution_count": 3,
   "metadata": {},
   "outputs": [
    {
     "output_type": "execute_result",
     "data": {
      "text/plain": "index                                                    0001.00005.1\ntext                 The Sunshine State drew in a net influx of ab...\ncause                It is consistently one of the most popular de...\neffect               The Sunshine State drew in a net influx of ab...\noffset_sentence2                                                  159\noffset_sentence3                                                  264\ncause_start                                                       160\ncause_end                                                         264\neffect_start                                                        0\neffect_end                                                        159\nsentence             <e2>The Sunshine State drew in a net influx o...\nName: 0, dtype: object"
     },
     "metadata": {},
     "execution_count": 3
    }
   ],
   "source": [
    "train.iloc[0]"
   ]
  },
  {
   "cell_type": "code",
   "execution_count": null,
   "metadata": {},
   "outputs": [],
   "source": [
    "\"\"\"\n",
    "Tagging scheme: \n",
    "    C-B\n",
    "    C-I\n",
    "    E-B\n",
    "    E-I\n",
    "\"\"\"\n",
    "\n"
   ]
  }
 ],
 "metadata": {
  "language_info": {
   "codemirror_mode": {
    "name": "ipython",
    "version": 3
   },
   "file_extension": ".py",
   "mimetype": "text/x-python",
   "name": "python",
   "nbconvert_exporter": "python",
   "pygments_lexer": "ipython3",
   "version": "3.8.2-final"
  },
  "orig_nbformat": 2,
  "kernelspec": {
   "name": "python38264bitdeeplearningcondac04df1efee874df2ad8ee6cd80464e64",
   "display_name": "Python 3.8.2 64-bit ('deeplearning': conda)"
  }
 },
 "nbformat": 4,
 "nbformat_minor": 2
}