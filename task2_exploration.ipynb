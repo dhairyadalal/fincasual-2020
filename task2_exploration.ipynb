{
 "cells": [
  {
   "cell_type": "code",
   "execution_count": 17,
   "metadata": {},
   "outputs": [],
   "source": [
    "import pandas as pd\n",
    "\n",
    "practice = pd.read_csv(\"data/practice/task2.csv\", sep=\";\", \n",
    "                     names = ['index', 'text', 'cause', 'effect', 'offset_sentence2',\n",
    "                              'offset_sentence3', 'cause_start', 'cause_end', \n",
    "                              'effect_start', 'effect_end', 'sentence'],\n",
    "                    header=0)\n",
    "trial = pd.read_csv(\"data/trial/task2.csv\", sep=\";\", \n",
    "                     names = ['index', 'text', 'cause', 'effect', 'offset_sentence2',\n",
    "                              'offset_sentence3', 'cause_start', 'cause_end', \n",
    "                              'effect_start', 'effect_end', 'sentence'],\n",
    "                    header=0)\n",
    "comb = pd.concat([practice, trial])"
   ]
  },
  {
   "cell_type": "code",
   "execution_count": 14,
   "metadata": {
    "tags": []
   },
   "outputs": [
    {
     "output_type": "stream",
     "name": "stdout",
     "text": "['O', 'O', 'B-LOC', 'I-LOC', 'L-LOC', 'O']\n"
    }
   ],
   "source": [
    "import spacy\n",
    "from spacy.gold import biluo_tags_from_offsets\n",
    "\n",
    "nlp = spacy.load('en')\n",
    "\n",
    "doc = nlp(\"I like London and Paris.\")\n",
    "entities = [(7, 23, \"LOC\")]\n",
    "tags = biluo_tags_from_offsets(doc, entities)\n",
    "print(tags)"
   ]
  },
  {
   "cell_type": "code",
   "execution_count": 15,
   "metadata": {},
   "outputs": [],
   "source": [
    "from transformers import AutoTokenizer\n",
    "\n",
    "tokenizer = AutoTokenizer.from_pretrained(\"distilroberta-base\")"
   ]
  },
  {
   "cell_type": "code",
   "execution_count": 23,
   "metadata": {},
   "outputs": [],
   "source": [
    "text = \"The Sunshine State drew in a net influx of about $17.7 billion in adjusted gross income (AGI)  -  most of which (72 percent) came from those aged 55 and older. It is consistently one of the most popular destinations for retirees due to affordability and low taxes. Florida's $17.7 billion in net AGI dwarves the remaining 19 states that saw a positive net influx of income  -  which combined for a total of $19.4 billion.\"\n",
    "\n",
    "cause = 'It is consistently one of the most popular destinations for retirees due to affordability and low taxes.'\n",
    "effect = 'The Sunshine State drew in a net influx of about $17.7 billion in adjusted gross income (AGI)  -  most of which (72 percent) came from those aged 55 and older.'"
   ]
  },
  {
   "cell_type": "code",
   "execution_count": 43,
   "metadata": {},
   "outputs": [],
   "source": [
    " text_ec = \" \".join([ str(t) for t in tokenizer.encode(text)])"
   ]
  },
  {
   "cell_type": "code",
   "execution_count": 44,
   "metadata": {},
   "outputs": [
    {
     "output_type": "execute_result",
     "data": {
      "text/plain": "'0 20 14995 331 4855 11 10 1161 15849 9 59 68 1360 4 406 325 11 5493 4200 1425 36 3450 100 43 1437 111 1437 144 9 61 36 4956 135 43 376 31 167 5180 3490 8 2530 4 85 16 6566 65 9 5 144 1406 11633 13 21156 528 7 21254 8 614 2556 4 1261 18 68 1360 4 406 325 11 1161 5680 100 48253 5 2405 753 982 14 794 10 1313 1161 15849 9 1425 1437 111 1437 61 2771 13 10 746 9 68 1646 4 306 325 4 2'"
     },
     "metadata": {},
     "execution_count": 44
    }
   ],
   "source": [
    "cause_ec = "
   ]
  },
  {
   "cell_type": "code",
   "execution_count": 59,
   "metadata": {},
   "outputs": [],
   "source": [
    "tag_list = [\"X\", \"B-cause\", \"I-cause\", \"L-cause\", \"B-effect\", \"I-effect\", \"L-effect\", \"O\"]\n",
    "tag2idx = {\"X\":0, \"B-cause\":1, \"I-cause\":2, \"L-cause\":3, \"B-effect\":4, \"I-effect\":5, \"L-effect\":6, \"O\": 7}"
   ]
  },
  {
   "cell_type": "code",
   "execution_count": 91,
   "metadata": {
    "tags": []
   },
   "outputs": [
    {
     "output_type": "stream",
     "name": "stderr",
     "text": "100%|██████████| 1750/1750 [00:01<00:00, 1057.50it/s]\n"
    }
   ],
   "source": [
    "from tqdm import tqdm\n",
    "\n",
    "def get_tok_tags(text: str, type: str, tokenizer: AutoTokenizer) -> [str, str]:\n",
    "    \"\"\"\n",
    "        Encode subspan and align tags to encoded subspan\n",
    "        Return: encoded subspan and aligned tags\n",
    "    \"\"\"\n",
    "    toks = tokenizer.encode(text)[1:-1] \n",
    "    if type == \"cause\":\n",
    "        toks_tags = \" \".join([\"B-cause\"] + [\"I-cause\"] * (len(toks) -2) + [\"L-cause\"])\n",
    "    else:\n",
    "        toks_tags = \" \".join([\"B-effect\"] + [\"I-effect\"] * (len(toks) -2) + [\"L-effect\"])\n",
    "    toks = \" \".join([ str(t) for t in toks])\n",
    "    return toks, toks_tags\n",
    "\n",
    "\n",
    "dr_inputs = []\n",
    "dr_tags = [] \n",
    "\n",
    "for i,v in tqdm(comb.iterrows(), total=len(comb)):\n",
    "    text_ec = \" \".join([str(t) for t in tokenizer.encode(v[\"text\"])])\n",
    "\n",
    "    ctoks, ctags = get_tok_tags(v[\"cause\"], \"cause\", tokenizer)\n",
    "    etoks, etags = get_tok_tags(v[\"effect\"], \"effect\", tokenizer)\n",
    "\n",
    "    text_tags = text_ec.replace(ctoks, ctags)\n",
    "    text_tags = text_tags.replace(etoks, etags)  \n",
    "    text_tags = [tag2idx[tok] if tok in tag_list else tag2idx[\"O\"] for tok in text_tags.split()] \n",
    "    text_tags_encoded = \" \".join([str(t) for t in text_tags])\n",
    "    \n",
    "    dr_inputs.append(text_ec)\n",
    "    dr_tags.append(text_tags_encoded)\n",
    "\n",
    "comb[\"dr_input\"] = dr_inputs\n",
    "comb[\"dr_tag\"] = dr_tags\n",
    "comb[\"dr_pad\"] = 1"
   ]
  },
  {
   "cell_type": "code",
   "execution_count": 92,
   "metadata": {
    "tags": []
   },
   "outputs": [
    {
     "output_type": "stream",
     "name": "stderr",
     "text": "100%|██████████| 1750/1750 [00:04<00:00, 432.57it/s]\n"
    }
   ],
   "source": [
    "bert_tokenizer = AutoTokenizer.from_pretrained(\"bert-base-uncased\")\n",
    "\n",
    "b_inputs = []\n",
    "b_tags = [] \n",
    "\n",
    "for i,v in tqdm(comb.iterrows(), total=len(comb)):\n",
    "    text_ec = \" \".join([str(t) for t in bert_tokenizer.encode(v[\"text\"])])\n",
    "\n",
    "    ctoks, ctags = get_tok_tags(v[\"cause\"], \"cause\", bert_tokenizer)\n",
    "    etoks, etags = get_tok_tags(v[\"effect\"], \"effect\", bert_tokenizer)\n",
    "\n",
    "    text_tags = text_ec.replace(ctoks, ctags)\n",
    "    text_tags = text_tags.replace(etoks, etags)  \n",
    "    text_tags = [tag2idx[tok] if tok in tag_list else tag2idx[\"O\"] for tok in text_tags.split()] \n",
    "    text_tags_encoded = \" \".join([str(t) for t in text_tags])\n",
    "     \n",
    "    b_inputs.append(text_ec)\n",
    "    b_tags.append(text_tags_encoded)\n",
    "\n",
    "\n",
    "comb[\"bert_input\"] = b_inputs\n",
    "comb[\"bert_tag\"] = b_tags\n",
    "comb[\"bert_pad\"] = 0"
   ]
  },
  {
   "cell_type": "code",
   "execution_count": 94,
   "metadata": {},
   "outputs": [],
   "source": [
    "from sklearn.model_selection import train_test_split\n",
    "\n",
    "train, test = train_test_split(comb, random_state = 1988, test_size=.15)"
   ]
  },
  {
   "cell_type": "code",
   "execution_count": 76,
   "metadata": {},
   "outputs": [],
   "source": [
    "\n",
    "bert_tokenizer = AutoTokenizer.from_pretrained(\"bert-base-uncased\")"
   ]
  },
  {
   "cell_type": "code",
   "execution_count": 98,
   "metadata": {},
   "outputs": [],
   "source": [
    "train.to_csv(\"data/train_task2.csv\", index=False)\n",
    "test.to_csv(\"data/test_task2.csv\", index=False)"
   ]
  },
  {
   "cell_type": "code",
   "execution_count": null,
   "metadata": {},
   "outputs": [],
   "source": []
  }
 ],
 "metadata": {
  "language_info": {
   "codemirror_mode": {
    "name": "ipython",
    "version": 3
   },
   "file_extension": ".py",
   "mimetype": "text/x-python",
   "name": "python",
   "nbconvert_exporter": "python",
   "pygments_lexer": "ipython3",
   "version": "3.8.2-final"
  },
  "orig_nbformat": 2,
  "kernelspec": {
   "name": "python38264bitdeeplearningcondac04df1efee874df2ad8ee6cd80464e64",
   "display_name": "Python 3.8.2 64-bit ('deeplearning': conda)"
  }
 },
 "nbformat": 4,
 "nbformat_minor": 2
}